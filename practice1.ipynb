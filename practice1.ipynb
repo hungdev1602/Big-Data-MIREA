{
 "cells": [
  {
   "cell_type": "markdown",
   "id": "69c1843e",
   "metadata": {},
   "source": [
    "№1. Программа для вычисления площади фигур (треугольник, прямоугольник, круг) с выводом в словарь.\n"
   ]
  },
  {
   "cell_type": "code",
   "execution_count": null,
   "id": "0db381af",
   "metadata": {},
   "outputs": [
    {
     "name": "stdout",
     "output_type": "stream",
     "text": [
      "{'треугольник': 6.0}\n"
     ]
    }
   ],
   "source": [
    "import math\n",
    "\n",
    "def calculate_area():\n",
    "    shape = input(\"Введите фигуру (треугольник, прямоугольник, круг): \").lower()\n",
    "    \n",
    "    if shape == \"треугольник\":\n",
    "        a = float(input(\"сторона А: \"))\n",
    "        h = float(input(\"высота: \"))\n",
    "        area = 0.5 * a * h\n",
    "        return {\"треугольник\": area}\n",
    "    \n",
    "    elif shape == \"прямоугольник\":\n",
    "        a = float(input(\"Длина: \"))\n",
    "        b = float(input(\"Ширина: \"))\n",
    "        area = a * b\n",
    "        return {\"прямоугольник\": area}\n",
    "    \n",
    "    elif shape == \"круг\":\n",
    "        r = float(input(\"Радиус: \"))\n",
    "        area = math.pi * r * r\n",
    "        return {\"круг\": area}\n",
    "    \n",
    "    else:\n",
    "        return \"error\"\n",
    "\n",
    "print(calculate_area())"
   ]
  },
  {
   "cell_type": "markdown",
   "id": "ecd983f1",
   "metadata": {},
   "source": [
    "2. Калькулятор с операциями: +, -, /, //, abs, pow/** для двух чисел.\n"
   ]
  },
  {
   "cell_type": "code",
   "execution_count": null,
   "id": "7d607e66",
   "metadata": {},
   "outputs": [
    {
     "name": "stdout",
     "output_type": "stream",
     "text": [
      "результат 5.0\n"
     ]
    }
   ],
   "source": [
    "def calculate():\n",
    "    try:\n",
    "        num1 = float(input(\"Введите Первое число: \"))\n",
    "        num2 = float(input(\"Введите Второе число: \"))\n",
    "        operation = input(\"Выберите Операция (+, -, /, //, abs, pow или **): \")\n",
    "        \n",
    "        if operation == \"+\":\n",
    "            result = num1 + num2\n",
    "        elif operation == \"-\":\n",
    "            result = num1 - num2\n",
    "        elif operation == \"/\":\n",
    "            result = num1 / num2\n",
    "        elif operation == \"//\":\n",
    "            result = num1 // num2\n",
    "        elif operation == \"abs\":\n",
    "            result = abs(num1)\n",
    "        elif operation in [\"pow\", \"**\"]:\n",
    "            result = num1 ** num2\n",
    "        else:\n",
    "            return \"ошибка\"\n",
    "        \n",
    "        return \"результат \"  + str(result)\n",
    "    \n",
    "    except ZeroDivisionError:\n",
    "        return \"Деление на ноль\"\n",
    "    except ValueError:\n",
    "        return \"Введите числа корректно\"\n",
    "\n",
    "print(calculate())"
   ]
  },
  {
   "cell_type": "markdown",
   "id": "7a34f5ae",
   "metadata": {},
   "source": [
    "3. Чтение чисел до нулевой суммы с выводом суммы их квадратов."
   ]
  },
  {
   "cell_type": "code",
   "execution_count": 18,
   "id": "3d3a97fe",
   "metadata": {},
   "outputs": [
    {
     "name": "stdout",
     "output_type": "stream",
     "text": [
      "138.0\n"
     ]
    }
   ],
   "source": [
    "numbers = []\n",
    "total = 0\n",
    "\n",
    "while 1:\n",
    "    num = float(input())\n",
    "    numbers.append(num)\n",
    "    total += num\n",
    "    \n",
    "    if total == 0:\n",
    "        break\n",
    "\n",
    "sum_of_squares = sum(x * x for x in numbers)\n",
    "\n",
    "print(sum_of_squares)"
   ]
  },
  {
   "cell_type": "markdown",
   "id": "326c5813",
   "metadata": {},
   "source": [
    "4. Генерация последовательности чисел, где каждое число повторяется столько раз, чему оно равно."
   ]
  },
  {
   "cell_type": "code",
   "execution_count": 21,
   "id": "f2ec8b43",
   "metadata": {},
   "outputs": [
    {
     "name": "stdout",
     "output_type": "stream",
     "text": [
      "1 2 2 3 3 3 4\n"
     ]
    }
   ],
   "source": [
    "n = int(input(\"Введите N: \"))\n",
    "result = []\n",
    "\n",
    "current_number = 1\n",
    "while len(result) < n:\n",
    "    for _ in range(current_number):\n",
    "        if len(result) < n:\n",
    "            result.append(current_number)\n",
    "        else:\n",
    "            break\n",
    "    current_number += 1\n",
    "\n",
    "print(*result)"
   ]
  },
  {
   "cell_type": "markdown",
   "id": "2aceafd9",
   "metadata": {},
   "source": [
    "5. Создание словаря из двух списков: ключи из B, значения - суммы соответствующих элементов из A."
   ]
  },
  {
   "cell_type": "code",
   "execution_count": null,
   "id": "963ea816",
   "metadata": {},
   "outputs": [
    {
     "name": "stdout",
     "output_type": "stream",
     "text": [
      "{'a': 17, 'b': 11, 'c': 17}\n"
     ]
    }
   ],
   "source": [
    "A = [1, 2, 3, 4, 2, 1, 3, 4, 5, 6, 5, 4, 3, 2]\n",
    "B = ['a', 'b', 'c', 'c', 'c', 'b', 'a', 'c', 'a', 'a', 'b', 'c', 'b', 'a']\n",
    "\n",
    "result = {}\n",
    "\n",
    "for i in range(len(B)):\n",
    "    key = B[i]\n",
    "    value = A[i]\n",
    "    \n",
    "    if key in result:\n",
    "        result[key] += value\n",
    "    else:\n",
    "        result[key] = value\n",
    "\n",
    "print(result)\n"
   ]
  },
  {
   "cell_type": "markdown",
   "id": "5ad05e43",
   "metadata": {},
   "source": [
    "6-12. Анализ датасета с ценами на дома в Калифорнии (загрузка, проверка пропусков, фильтрация, статистика)."
   ]
  },
  {
   "cell_type": "code",
   "execution_count": 25,
   "id": "4d010786",
   "metadata": {},
   "outputs": [
    {
     "name": "stdout",
     "output_type": "stream",
     "text": [
      "1. Использовать метод info():\n",
      "<class 'pandas.core.frame.DataFrame'>\n",
      "RangeIndex: 20640 entries, 0 to 20639\n",
      "Data columns (total 9 columns):\n",
      " #   Column       Non-Null Count  Dtype  \n",
      "---  ------       --------------  -----  \n",
      " 0   MedInc       20640 non-null  float64\n",
      " 1   HouseAge     20640 non-null  float64\n",
      " 2   AveRooms     20640 non-null  float64\n",
      " 3   AveBedrms    20640 non-null  float64\n",
      " 4   Population   20640 non-null  float64\n",
      " 5   AveOccup     20640 non-null  float64\n",
      " 6   Latitude     20640 non-null  float64\n",
      " 7   Longitude    20640 non-null  float64\n",
      " 8   MedHouseVal  20640 non-null  float64\n",
      "dtypes: float64(9)\n",
      "memory usage: 1.4 MB\n",
      "None\n",
      "\n",
      "2. Узнать, есть ли пропущенные значения, используя isna().sum().:\n",
      "MedInc         0\n",
      "HouseAge       0\n",
      "AveRooms       0\n",
      "AveBedrms      0\n",
      "Population     0\n",
      "AveOccup       0\n",
      "Latitude       0\n",
      "Longitude      0\n",
      "MedHouseVal    0\n",
      "dtype: int64\n",
      "\n",
      "3. Вывести записи, где средний возраст домов в районе более 50 лет и население более 2500 человек, используя метод loc()\n",
      "       MedInc  HouseAge  AveRooms  AveBedrms  Population    AveOccup  \\\n",
      "460    1.4012      52.0  3.105714   1.060000      3337.0    9.534286   \n",
      "4131   3.5349      52.0  4.646119   1.047945      2589.0    5.910959   \n",
      "4440   2.6806      52.0  4.806283   1.057592      3062.0    4.007853   \n",
      "5986   1.8750      52.0  4.500000   1.206349      2688.0   21.333333   \n",
      "7369   3.1901      52.0  4.730942   1.017937      3731.0    4.182735   \n",
      "8227   2.3305      52.0  3.488860   1.170380      3018.0    3.955439   \n",
      "13034  6.1359      52.0  8.275862   1.517241      6675.0  230.172414   \n",
      "15634  1.8295      52.0  2.628169   1.053521      2957.0    4.164789   \n",
      "15652  0.9000      52.0  2.237474   1.053535      3260.0    2.237474   \n",
      "15657  2.5166      52.0  2.839075   1.184049      3436.0    1.621520   \n",
      "15659  1.7240      52.0  2.278566   1.082348      4518.0    1.780142   \n",
      "15795  2.5755      52.0  3.402576   1.058776      2619.0    2.108696   \n",
      "15868  2.8135      52.0  4.584329   1.041169      2987.0    3.966799   \n",
      "\n",
      "       Latitude  Longitude  MedHouseVal  \n",
      "460       37.87    -122.26      1.75000  \n",
      "4131      34.13    -118.20      1.93600  \n",
      "4440      34.08    -118.21      1.53000  \n",
      "5986      34.10    -117.71      2.12500  \n",
      "7369      33.97    -118.21      1.67600  \n",
      "8227      33.78    -118.20      1.62500  \n",
      "13034     38.69    -121.15      2.25000  \n",
      "15634     37.80    -122.41      2.43800  \n",
      "15652     37.80    -122.41      5.00001  \n",
      "15657     37.79    -122.41      2.75000  \n",
      "15659     37.79    -122.41      2.25000  \n",
      "15795     37.77    -122.42      3.25000  \n",
      "15868     37.76    -122.41      2.60300  \n",
      "Количество записей: 13\n",
      "\n",
      "4. Медианная стоимость дома:\n",
      "Минимальная стоимость: 0.15\n",
      "Максимальная стоимость: 5.00\n",
      "\n",
      "5. Средние значения признаков:\n",
      "MedInc: 3.8707\n",
      "HouseAge: 28.6395\n",
      "AveRooms: 5.4290\n",
      "AveBedrms: 1.0967\n",
      "Population: 1425.4767\n",
      "AveOccup: 3.0707\n",
      "Latitude: 35.6319\n",
      "Longitude: -119.5697\n",
      "MedHouseVal: 2.0686\n"
     ]
    }
   ],
   "source": [
    "from sklearn.datasets import fetch_california_housing\n",
    "import pandas as pd\n",
    "\n",
    "data = fetch_california_housing(as_frame=True)\n",
    "df = data.frame\n",
    "\n",
    "print(\"1. Использовать метод info():\")\n",
    "print(df.info())\n",
    "print()\n",
    "\n",
    "print(\"2. Узнать, есть ли пропущенные значения, используя isna().sum().:\")\n",
    "print(df.isna().sum())\n",
    "print()\n",
    "\n",
    "print(\"3. Вывести записи, где средний возраст домов в районе более 50 лет и население более 2500 человек, используя метод loc()\")\n",
    "filtered_data = df.loc[(df['HouseAge'] > 50) & (df['Population'] > 2500)]\n",
    "print(filtered_data)\n",
    "print(f\"Количество записей: {len(filtered_data)}\")\n",
    "print()\n",
    "\n",
    "print(\"4. Медианная стоимость дома:\")\n",
    "print(f\"Минимальная стоимость: {df['MedHouseVal'].min():.2f}\")\n",
    "print(f\"Максимальная стоимость: {df['MedHouseVal'].max():.2f}\")\n",
    "print()\n",
    "\n",
    "print(\"5. Средние значения признаков:\")\n",
    "means = df.apply(lambda x: x.mean())\n",
    "for feature, mean_value in means.items():\n",
    "    print(f\"{feature}: {mean_value:.4f}\")"
   ]
  },
  {
   "cell_type": "markdown",
   "id": "6c087b85",
   "metadata": {},
   "source": [
    "1* Кодировщик текста в азбуку Морзе с сохранением структуры слов."
   ]
  },
  {
   "cell_type": "code",
   "execution_count": 2,
   "id": "9c9f4a5c",
   "metadata": {},
   "outputs": [
    {
     "name": "stdout",
     "output_type": "stream",
     "text": [
      ".--...-.-.\n"
     ]
    }
   ],
   "source": [
    "morse = {'a': '.-', 'b': '-...', 'c': '-.-.', 'd': '-..',\n",
    "         'e': '.', 'f': '..-.', 'g': '--.', 'h': '....',\n",
    "         'i': '..', 'j': '.---', 'k': '-.-', 'l': '.-..',\n",
    "         'm': '--', 'n': '-.', 'o': '---', 'p': '.--.',\n",
    "         'q': '--.-', 'r': '.-.', 's': '...', 't': '-',\n",
    "         'u': '..-', 'v': '...-', 'w': '.--', 'x': '-..-',\n",
    "         'y': '-.--', 'z': '--..'}\n",
    "\n",
    "text = input().strip()\n",
    "\n",
    "words = text.split()\n",
    "\n",
    "for word in words:\n",
    "    morse_word = []\n",
    "    for char in word:\n",
    "        morse_char = morse.get(char.lower())\n",
    "        if morse_char:\n",
    "            morse_word.append(morse_char)\n",
    "    \n",
    "    print(''.join(morse_word))"
   ]
  },
  {
   "cell_type": "markdown",
   "id": "16a431fa",
   "metadata": {},
   "source": [
    "2* Система регистрации пользователей с генерацией уникальных имен при конфликтах."
   ]
  },
  {
   "cell_type": "code",
   "execution_count": 4,
   "id": "bfedebbf",
   "metadata": {},
   "outputs": [
    {
     "name": "stdout",
     "output_type": "stream",
     "text": [
      "OK\n",
      "b1\n",
      "b2\n"
     ]
    }
   ],
   "source": [
    "n = int(input().strip())\n",
    "database = {}\n",
    "counters = {}\n",
    "\n",
    "for _ in range(n):\n",
    "    name = input().strip()\n",
    "    \n",
    "    if name not in database:\n",
    "        database[name] = True\n",
    "        counters[name] = 0  \n",
    "        print(\"OK\")\n",
    "    else:\n",
    "        counters[name] += 1\n",
    "        new_name = f\"{name}{counters[name]}\"\n",
    "        \n",
    "        while new_name in database:\n",
    "            counters[name] += 1\n",
    "            new_name = f\"{name}{counters[name]}\"\n",
    "        \n",
    "        database[new_name] = True\n",
    "        if new_name not in counters:\n",
    "            counters[new_name] = 0\n",
    "        print(new_name)"
   ]
  },
  {
   "cell_type": "markdown",
   "id": "4d487c85",
   "metadata": {},
   "source": [
    "3. Программа для обработки запросов к файловой системе: проверка разрешенных операций (чтение, запись, запуск) для файлов.\n",
    "\n"
   ]
  },
  {
   "cell_type": "code",
   "execution_count": null,
   "id": "cb1a5c27",
   "metadata": {},
   "outputs": [
    {
     "name": "stdout",
     "output_type": "stream",
     "text": [
      "Access denied\n",
      "OK\n",
      "OK\n",
      "OK\n",
      "OK\n"
     ]
    }
   ],
   "source": [
    "n = int(input().strip())\n",
    "file_permissions = {}\n",
    "\n",
    "for _ in range(n):\n",
    "    data = input().split()\n",
    "    filename = data[0]\n",
    "    permissions = data[1:]\n",
    "    file_permissions[filename] = permissions\n",
    "\n",
    "m = int(input().strip())\n",
    "\n",
    "for _ in range(m):\n",
    "    operation, filename = input().split()\n",
    "    \n",
    "    if operation == \"write\":\n",
    "        op_code = \"w\"\n",
    "    elif operation == \"read\":\n",
    "        op_code = \"r\"\n",
    "    elif operation == \"execute\":\n",
    "        op_code = \"x\"\n",
    "    else:\n",
    "        op_code = \"\"\n",
    "    \n",
    "    if filename in file_permissions and op_code in file_permissions[filename]:\n",
    "        print(\"OK\")\n",
    "    else:\n",
    "        print(\"Access denied\")"
   ]
  }
 ],
 "metadata": {
  "kernelspec": {
   "display_name": "Python 3",
   "language": "python",
   "name": "python3"
  },
  "language_info": {
   "codemirror_mode": {
    "name": "ipython",
    "version": 3
   },
   "file_extension": ".py",
   "mimetype": "text/x-python",
   "name": "python",
   "nbconvert_exporter": "python",
   "pygments_lexer": "ipython3",
   "version": "3.12.5"
  }
 },
 "nbformat": 4,
 "nbformat_minor": 5
}
